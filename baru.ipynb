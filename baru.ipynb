{
 "cells": [
  {
   "cell_type": "markdown",
   "id": "24110d37",
   "metadata": {},
   "source": [
    "## Clustering : Customer Segmentation"
   ]
  },
  {
   "cell_type": "markdown",
   "id": "5211c341",
   "metadata": {},
   "source": [
    "### Import Library"
   ]
  },
  {
   "cell_type": "code",
   "execution_count": 1,
   "id": "03bdc0b0",
   "metadata": {},
   "outputs": [],
   "source": [
    "import matplotlib.pyplot as plt\n",
    "import seaborn as sns\n",
    "import pandas as pd\n",
    "import warnings\n",
    "from sklearn.cluster import KMeans\n",
    "from sklearn.preprocessing import StandardScaler\n",
    "from sklearn.preprocessing import LabelEncoder\n",
    "warnings.filterwarnings(\"ignore\")\n",
    "from kmodes.kmodes import KModes  "
   ]
  },
  {
   "cell_type": "markdown",
   "id": "7efb42d4",
   "metadata": {},
   "source": [
    "### Loading Dataset"
   ]
  },
  {
   "cell_type": "code",
   "execution_count": 2,
   "id": "279ce150",
   "metadata": {},
   "outputs": [
    {
     "data": {
      "text/html": [
       "<div>\n",
       "<style scoped>\n",
       "    .dataframe tbody tr th:only-of-type {\n",
       "        vertical-align: middle;\n",
       "    }\n",
       "\n",
       "    .dataframe tbody tr th {\n",
       "        vertical-align: top;\n",
       "    }\n",
       "\n",
       "    .dataframe thead th {\n",
       "        text-align: right;\n",
       "    }\n",
       "</style>\n",
       "<table border=\"1\" class=\"dataframe\">\n",
       "  <thead>\n",
       "    <tr style=\"text-align: right;\">\n",
       "      <th></th>\n",
       "      <th>id</th>\n",
       "      <th>age</th>\n",
       "      <th>gender</th>\n",
       "      <th>traffic_source</th>\n",
       "      <th>category</th>\n",
       "      <th>retail_price</th>\n",
       "    </tr>\n",
       "  </thead>\n",
       "  <tbody>\n",
       "    <tr>\n",
       "      <th>0</th>\n",
       "      <td>79128</td>\n",
       "      <td>14</td>\n",
       "      <td>M</td>\n",
       "      <td>Search</td>\n",
       "      <td>Accessories</td>\n",
       "      <td>3.0</td>\n",
       "    </tr>\n",
       "    <tr>\n",
       "      <th>1</th>\n",
       "      <td>84559</td>\n",
       "      <td>50</td>\n",
       "      <td>M</td>\n",
       "      <td>Search</td>\n",
       "      <td>Accessories</td>\n",
       "      <td>3.0</td>\n",
       "    </tr>\n",
       "    <tr>\n",
       "      <th>2</th>\n",
       "      <td>64034</td>\n",
       "      <td>58</td>\n",
       "      <td>F</td>\n",
       "      <td>Organic</td>\n",
       "      <td>Accessories</td>\n",
       "      <td>3.5</td>\n",
       "    </tr>\n",
       "    <tr>\n",
       "      <th>3</th>\n",
       "      <td>74318</td>\n",
       "      <td>39</td>\n",
       "      <td>F</td>\n",
       "      <td>Search</td>\n",
       "      <td>Accessories</td>\n",
       "      <td>3.5</td>\n",
       "    </tr>\n",
       "    <tr>\n",
       "      <th>4</th>\n",
       "      <td>91110</td>\n",
       "      <td>52</td>\n",
       "      <td>F</td>\n",
       "      <td>Search</td>\n",
       "      <td>Plus</td>\n",
       "      <td>3.5</td>\n",
       "    </tr>\n",
       "  </tbody>\n",
       "</table>\n",
       "</div>"
      ],
      "text/plain": [
       "      id  age gender traffic_source     category  retail_price\n",
       "0  79128   14      M         Search  Accessories           3.0\n",
       "1  84559   50      M         Search  Accessories           3.0\n",
       "2  64034   58      F        Organic  Accessories           3.5\n",
       "3  74318   39      F         Search  Accessories           3.5\n",
       "4  91110   52      F         Search         Plus           3.5"
      ]
     },
     "execution_count": 2,
     "metadata": {},
     "output_type": "execute_result"
    }
   ],
   "source": [
    "df = pd.read_csv('training.csv')\n",
    "df.head()"
   ]
  },
  {
   "cell_type": "markdown",
   "id": "e48e6cc1",
   "metadata": {},
   "source": [
    "### Make Column Spend"
   ]
  },
  {
   "cell_type": "code",
   "execution_count": 3,
   "id": "1b3f9dad",
   "metadata": {},
   "outputs": [],
   "source": [
    "# Make a copy from dataframe 'df'\n",
    "dc= df.copy()\n",
    "# in main dataframe make new column 'spend', where we add all value from column 'retail_price' and group it by 'id'\n",
    "df['spend'] = dc.groupby('id')['retail_price'].transform('sum')"
   ]
  },
  {
   "cell_type": "code",
   "execution_count": 4,
   "id": "3a9bd02c",
   "metadata": {},
   "outputs": [],
   "source": [
    "# and then, drop all duplicate value in column 'id', and we will keep the first data, cause we already group it\n",
    "df = df.drop_duplicates(subset=['id'],keep='first')"
   ]
  },
  {
   "cell_type": "code",
   "execution_count": 5,
   "id": "bd55ae8c",
   "metadata": {},
   "outputs": [
    {
     "data": {
      "text/html": [
       "<div>\n",
       "<style scoped>\n",
       "    .dataframe tbody tr th:only-of-type {\n",
       "        vertical-align: middle;\n",
       "    }\n",
       "\n",
       "    .dataframe tbody tr th {\n",
       "        vertical-align: top;\n",
       "    }\n",
       "\n",
       "    .dataframe thead th {\n",
       "        text-align: right;\n",
       "    }\n",
       "</style>\n",
       "<table border=\"1\" class=\"dataframe\">\n",
       "  <thead>\n",
       "    <tr style=\"text-align: right;\">\n",
       "      <th></th>\n",
       "      <th>id</th>\n",
       "      <th>age</th>\n",
       "      <th>gender</th>\n",
       "      <th>traffic_source</th>\n",
       "      <th>category</th>\n",
       "      <th>spend</th>\n",
       "    </tr>\n",
       "  </thead>\n",
       "  <tbody>\n",
       "    <tr>\n",
       "      <th>0</th>\n",
       "      <td>79128</td>\n",
       "      <td>14</td>\n",
       "      <td>M</td>\n",
       "      <td>Search</td>\n",
       "      <td>Accessories</td>\n",
       "      <td>19.959999</td>\n",
       "    </tr>\n",
       "    <tr>\n",
       "      <th>1</th>\n",
       "      <td>84559</td>\n",
       "      <td>50</td>\n",
       "      <td>M</td>\n",
       "      <td>Search</td>\n",
       "      <td>Accessories</td>\n",
       "      <td>77.500000</td>\n",
       "    </tr>\n",
       "    <tr>\n",
       "      <th>2</th>\n",
       "      <td>64034</td>\n",
       "      <td>58</td>\n",
       "      <td>F</td>\n",
       "      <td>Organic</td>\n",
       "      <td>Accessories</td>\n",
       "      <td>102.500000</td>\n",
       "    </tr>\n",
       "    <tr>\n",
       "      <th>3</th>\n",
       "      <td>74318</td>\n",
       "      <td>39</td>\n",
       "      <td>F</td>\n",
       "      <td>Search</td>\n",
       "      <td>Accessories</td>\n",
       "      <td>338.400000</td>\n",
       "    </tr>\n",
       "    <tr>\n",
       "      <th>4</th>\n",
       "      <td>91110</td>\n",
       "      <td>52</td>\n",
       "      <td>F</td>\n",
       "      <td>Search</td>\n",
       "      <td>Plus</td>\n",
       "      <td>3.500000</td>\n",
       "    </tr>\n",
       "  </tbody>\n",
       "</table>\n",
       "</div>"
      ],
      "text/plain": [
       "      id  age gender traffic_source     category       spend\n",
       "0  79128   14      M         Search  Accessories   19.959999\n",
       "1  84559   50      M         Search  Accessories   77.500000\n",
       "2  64034   58      F        Organic  Accessories  102.500000\n",
       "3  74318   39      F         Search  Accessories  338.400000\n",
       "4  91110   52      F         Search         Plus    3.500000"
      ]
     },
     "execution_count": 5,
     "metadata": {},
     "output_type": "execute_result"
    }
   ],
   "source": [
    "# finally we drop column 'retail_price'\n",
    "df = df.drop('retail_price', axis=1)\n",
    "df.head()"
   ]
  },
  {
   "cell_type": "markdown",
   "id": "9866c259",
   "metadata": {},
   "source": [
    "### EDA"
   ]
  },
  {
   "cell_type": "code",
   "execution_count": 6,
   "id": "4860071e",
   "metadata": {},
   "outputs": [
    {
     "name": "stdout",
     "output_type": "stream",
     "text": [
      "<class 'pandas.core.frame.DataFrame'>\n",
      "Int64Index: 36707 entries, 0 to 63024\n",
      "Data columns (total 6 columns):\n",
      " #   Column          Non-Null Count  Dtype  \n",
      "---  ------          --------------  -----  \n",
      " 0   id              36707 non-null  int64  \n",
      " 1   age             36707 non-null  int64  \n",
      " 2   gender          36707 non-null  object \n",
      " 3   traffic_source  36707 non-null  object \n",
      " 4   category        36707 non-null  object \n",
      " 5   spend           36707 non-null  float64\n",
      "dtypes: float64(1), int64(2), object(3)\n",
      "memory usage: 2.0+ MB\n"
     ]
    }
   ],
   "source": [
    "df.info()"
   ]
  },
  {
   "cell_type": "code",
   "execution_count": 7,
   "id": "25e86ca1",
   "metadata": {},
   "outputs": [
    {
     "data": {
      "text/html": [
       "<div>\n",
       "<style scoped>\n",
       "    .dataframe tbody tr th:only-of-type {\n",
       "        vertical-align: middle;\n",
       "    }\n",
       "\n",
       "    .dataframe tbody tr th {\n",
       "        vertical-align: top;\n",
       "    }\n",
       "\n",
       "    .dataframe thead th {\n",
       "        text-align: right;\n",
       "    }\n",
       "</style>\n",
       "<table border=\"1\" class=\"dataframe\">\n",
       "  <thead>\n",
       "    <tr style=\"text-align: right;\">\n",
       "      <th></th>\n",
       "      <th>id</th>\n",
       "      <th>age</th>\n",
       "      <th>spend</th>\n",
       "    </tr>\n",
       "  </thead>\n",
       "  <tbody>\n",
       "    <tr>\n",
       "      <th>count</th>\n",
       "      <td>36707.000000</td>\n",
       "      <td>36707.000000</td>\n",
       "      <td>36707.000000</td>\n",
       "    </tr>\n",
       "    <tr>\n",
       "      <th>mean</th>\n",
       "      <td>50123.757703</td>\n",
       "      <td>40.939112</td>\n",
       "      <td>102.589346</td>\n",
       "    </tr>\n",
       "    <tr>\n",
       "      <th>std</th>\n",
       "      <td>28861.074507</td>\n",
       "      <td>16.986800</td>\n",
       "      <td>108.475600</td>\n",
       "    </tr>\n",
       "    <tr>\n",
       "      <th>min</th>\n",
       "      <td>1.000000</td>\n",
       "      <td>12.000000</td>\n",
       "      <td>0.020000</td>\n",
       "    </tr>\n",
       "    <tr>\n",
       "      <th>25%</th>\n",
       "      <td>25161.500000</td>\n",
       "      <td>26.000000</td>\n",
       "      <td>33.185001</td>\n",
       "    </tr>\n",
       "    <tr>\n",
       "      <th>50%</th>\n",
       "      <td>50209.000000</td>\n",
       "      <td>41.000000</td>\n",
       "      <td>66.000000</td>\n",
       "    </tr>\n",
       "    <tr>\n",
       "      <th>75%</th>\n",
       "      <td>75146.000000</td>\n",
       "      <td>56.000000</td>\n",
       "      <td>134.949997</td>\n",
       "    </tr>\n",
       "    <tr>\n",
       "      <th>max</th>\n",
       "      <td>99997.000000</td>\n",
       "      <td>70.000000</td>\n",
       "      <td>1661.000000</td>\n",
       "    </tr>\n",
       "  </tbody>\n",
       "</table>\n",
       "</div>"
      ],
      "text/plain": [
       "                 id           age         spend\n",
       "count  36707.000000  36707.000000  36707.000000\n",
       "mean   50123.757703     40.939112    102.589346\n",
       "std    28861.074507     16.986800    108.475600\n",
       "min        1.000000     12.000000      0.020000\n",
       "25%    25161.500000     26.000000     33.185001\n",
       "50%    50209.000000     41.000000     66.000000\n",
       "75%    75146.000000     56.000000    134.949997\n",
       "max    99997.000000     70.000000   1661.000000"
      ]
     },
     "execution_count": 7,
     "metadata": {},
     "output_type": "execute_result"
    }
   ],
   "source": [
    "df.describe()"
   ]
  },
  {
   "cell_type": "code",
   "execution_count": 8,
   "id": "8443b8f6",
   "metadata": {},
   "outputs": [
    {
     "data": {
      "image/png": "[encoded data removed]",
      "text/plain": [
       "<Figure size 432x288 with 1 Axes>"
      ]
     },
     "metadata": {
      "needs_background": "light"
     },
     "output_type": "display_data"
    }
   ],
   "source": [
    "ax = sns.boxplot(x=df[\"age\"])"
   ]
  },
  {
   "cell_type": "code",
   "execution_count": 9,
   "id": "6e829af3",
   "metadata": {},
   "outputs": [
    {
     "data": {
      "image/png": "[encoded data removed]",
      "text/plain": [
       "<Figure size 432x288 with 1 Axes>"
      ]
     },
     "metadata": {
      "needs_background": "light"
     },
     "output_type": "display_data"
    }
   ],
   "source": [
    "ax = sns.boxplot(x=df[\"spend\"])"
   ]
  },
  {
   "cell_type": "code",
   "execution_count": 10,
   "id": "1ba29d66",
   "metadata": {},
   "outputs": [
    {
     "data": {
      "text/plain": [
       "[Text(0, 0, '18300'), Text(0, 0, '18407')]"
      ]
     },
     "execution_count": 10,
     "metadata": {},
     "output_type": "execute_result"
    },
    {
     "data": {
      "image/png": "[encoded data removed]",
      "text/plain": [
       "<Figure size 432x288 with 1 Axes>"
      ]
     },
     "metadata": {
      "needs_background": "light"
     },
     "output_type": "display_data"
    }
   ],
   "source": [
    "ax = sns.countplot(x='gender', data=df)\n",
    "ax.bar_label(ax.containers[0])"
   ]
  },
  {
   "cell_type": "code",
   "execution_count": 11,
   "id": "d07b12ec",
   "metadata": {},
   "outputs": [
    {
     "data": {
      "text/plain": [
       "[Text(0, 0, '25751'),\n",
       " Text(0, 0, '5447'),\n",
       " Text(0, 0, '1753'),\n",
       " Text(0, 0, '1457'),\n",
       " Text(0, 0, '2299')]"
      ]
     },
     "execution_count": 11,
     "metadata": {},
     "output_type": "execute_result"
    },
    {
     "data": {
      "image/png": "[encoded data removed]",
      "text/plain": [
       "<Figure size 432x288 with 1 Axes>"
      ]
     },
     "metadata": {
      "needs_background": "light"
     },
     "output_type": "display_data"
    }
   ],
   "source": [
    "ax = sns.countplot(x='traffic_source', data=df)\n",
    "ax.bar_label(ax.containers[0])"
   ]
  },
  {
   "cell_type": "markdown",
   "id": "87be3946",
   "metadata": {},
   "source": [
    "### Handling Outlier"
   ]
  },
  {
   "cell_type": "code",
   "execution_count": 12,
   "id": "fe16e59e",
   "metadata": {},
   "outputs": [],
   "source": [
    "Q1 = df[\"spend\"].quantile(0.25)\n",
    "Q3 = df[\"spend\"].quantile(0.75)\n",
    "\n",
    "IQR = Q3 - Q1\n",
    "maximum = Q3 + (1.5*IQR)\n",
    "minimum = Q1 - (1.5*IQR)\n",
    "\n",
    "more_than     = (df[\"spend\"] > maximum)\n",
    "lower_than    = (df[\"spend\"] < minimum)\n",
    "df[\"spend\"] = df[\"spend\"].mask(more_than, maximum) \n",
    "df[\"spend\"] = df[\"spend\"].mask(lower_than, minimum)"
   ]
  },
  {
   "cell_type": "code",
   "execution_count": 13,
   "id": "e32dbc7c",
   "metadata": {},
   "outputs": [
    {
     "data": {
      "image/png": "[encoded data removed]",
      "text/plain": [
       "<Figure size 432x288 with 1 Axes>"
      ]
     },
     "metadata": {
      "needs_background": "light"
     },
     "output_type": "display_data"
    }
   ],
   "source": [
    "ax = sns.boxplot(x=df[\"spend\"])"
   ]
  },
  {
   "cell_type": "code",
   "execution_count": 14,
   "id": "00e6467c",
   "metadata": {},
   "outputs": [
    {
     "data": {
      "text/html": [
       "<div>\n",
       "<style scoped>\n",
       "    .dataframe tbody tr th:only-of-type {\n",
       "        vertical-align: middle;\n",
       "    }\n",
       "\n",
       "    .dataframe tbody tr th {\n",
       "        vertical-align: top;\n",
       "    }\n",
       "\n",
       "    .dataframe thead th {\n",
       "        text-align: right;\n",
       "    }\n",
       "</style>\n",
       "<table border=\"1\" class=\"dataframe\">\n",
       "  <thead>\n",
       "    <tr style=\"text-align: right;\">\n",
       "      <th></th>\n",
       "      <th>id</th>\n",
       "      <th>age</th>\n",
       "      <th>spend</th>\n",
       "    </tr>\n",
       "  </thead>\n",
       "  <tbody>\n",
       "    <tr>\n",
       "      <th>count</th>\n",
       "      <td>36707.000000</td>\n",
       "      <td>36707.000000</td>\n",
       "      <td>36707.000000</td>\n",
       "    </tr>\n",
       "    <tr>\n",
       "      <th>mean</th>\n",
       "      <td>50123.757703</td>\n",
       "      <td>40.939112</td>\n",
       "      <td>94.858028</td>\n",
       "    </tr>\n",
       "    <tr>\n",
       "      <th>std</th>\n",
       "      <td>28861.074507</td>\n",
       "      <td>16.986800</td>\n",
       "      <td>79.917093</td>\n",
       "    </tr>\n",
       "    <tr>\n",
       "      <th>min</th>\n",
       "      <td>1.000000</td>\n",
       "      <td>12.000000</td>\n",
       "      <td>0.020000</td>\n",
       "    </tr>\n",
       "    <tr>\n",
       "      <th>25%</th>\n",
       "      <td>25161.500000</td>\n",
       "      <td>26.000000</td>\n",
       "      <td>33.185001</td>\n",
       "    </tr>\n",
       "    <tr>\n",
       "      <th>50%</th>\n",
       "      <td>50209.000000</td>\n",
       "      <td>41.000000</td>\n",
       "      <td>66.000000</td>\n",
       "    </tr>\n",
       "    <tr>\n",
       "      <th>75%</th>\n",
       "      <td>75146.000000</td>\n",
       "      <td>56.000000</td>\n",
       "      <td>134.949997</td>\n",
       "    </tr>\n",
       "    <tr>\n",
       "      <th>max</th>\n",
       "      <td>99997.000000</td>\n",
       "      <td>70.000000</td>\n",
       "      <td>287.597490</td>\n",
       "    </tr>\n",
       "  </tbody>\n",
       "</table>\n",
       "</div>"
      ],
      "text/plain": [
       "                 id           age         spend\n",
       "count  36707.000000  36707.000000  36707.000000\n",
       "mean   50123.757703     40.939112     94.858028\n",
       "std    28861.074507     16.986800     79.917093\n",
       "min        1.000000     12.000000      0.020000\n",
       "25%    25161.500000     26.000000     33.185001\n",
       "50%    50209.000000     41.000000     66.000000\n",
       "75%    75146.000000     56.000000    134.949997\n",
       "max    99997.000000     70.000000    287.597490"
      ]
     },
     "execution_count": 14,
     "metadata": {},
     "output_type": "execute_result"
    }
   ],
   "source": [
    "df.describe()"
   ]
  },
  {
   "cell_type": "raw",
   "id": "5b0fe3a9",
   "metadata": {},
   "source": [
    "Insight\n",
    "\n",
    "1. Data terdiri dari 5 kolom dan 36707 baris\n",
    "2. Terdapat 3 kolom bertipe integer dan 3 kolom dalam bentuk kategorikal\n",
    "3. Tidak terdapat nilai null pada dataset \n",
    "4. Ada outlier pada kolom spend\n",
    "5. Rentang umur customer dari 12 - 70 tahun.\n",
    "6. Customer didominasi jenis kelamin wanita dengan perrsentase 50.15 %.\n",
    "7. 70.15% customer berasal dari dari 'traffic source' search. \n",
    "8. Rata-rata nilai belanja selama 4 tahun 94.85"
   ]
  },
  {
   "cell_type": "markdown",
   "id": "cd60b54e",
   "metadata": {},
   "source": [
    "### Label Encoder for Categorical Column"
   ]
  },
  {
   "cell_type": "code",
   "execution_count": 15,
   "id": "35635177",
   "metadata": {},
   "outputs": [],
   "source": [
    "# Make a copy of categorical column from dataset  \n",
    "df_encode =df[['gender','traffic_source','category']].copy()"
   ]
  },
  {
   "cell_type": "code",
   "execution_count": 16,
   "id": "ad12bffe",
   "metadata": {},
   "outputs": [],
   "source": [
    "# Melakukan labelEncoder untuk semua kolom kategorikal  \n",
    "for col in df_encode:  \n",
    "    df_encode[col]= LabelEncoder().fit_transform(df_encode[col])\n",
    "      \n",
    "# Menampilkan data  \n"
   ]
  },
  {
   "cell_type": "raw",
   "id": "2bb76b38",
   "metadata": {},
   "source": [
    "gender\n",
    "1=M\n",
    "0=F\n",
    "\n",
    "traffic SOurce\n",
    "4 = search\n",
    "3 = organic\n",
    "2 = Facebook\n",
    "1 = email\n",
    "0 = Display\n",
    "\n",
    "category\n",
    "0= accessories\n",
    "1 = Active\n",
    "2 = Blazers & Jackets\n",
    "3 = Clothing Sets\n",
    "4 = Dresses\n",
    "5 = Fashion Hoodies & Sweatshirts\n",
    "6 = Intimates\t\n",
    "7 = Jeans\n",
    "8 = Jumpsuits & Rompers\n",
    "9 = Leggings\n",
    "10 = Maternity\n",
    "11 = Outerwear & Coats\n",
    "12 = Pants\n",
    "13 = Pants & Capris\n",
    "14 = plus\n",
    "15 = Shorts\n",
    "16 = Skirts\n",
    "17 = Sleep & Lounge\n",
    "18 = Socks\n",
    "19 = Socks & Hosiery\n",
    "20 = Suits\n",
    "21 = Suits & Sport Coats\n",
    "22 = Sweaters\n",
    "23 = Swim\n",
    "24 = Tops & Tees\n",
    "25 = Underwear"
   ]
  },
  {
   "cell_type": "code",
   "execution_count": 17,
   "id": "1ca24f99",
   "metadata": {},
   "outputs": [],
   "source": [
    "df_std = df[['age','spend']]"
   ]
  },
  {
   "cell_type": "code",
   "execution_count": 18,
   "id": "f20a9a2a",
   "metadata": {},
   "outputs": [
    {
     "name": "stdout",
     "output_type": "stream",
     "text": [
      "   gender  traffic_source  category  age       spend\n",
      "0       1               4         0   14   19.959999\n",
      "1       1               4         0   50   77.500000\n",
      "2       0               3         0   58  102.500000\n",
      "3       0               4         0   39  287.597490\n",
      "4       0               4        14   52    3.500000\n"
     ]
    }
   ],
   "source": [
    "df_model= df_encode.merge(df_std, left_index = True, right_index=True, how= 'left')  \n",
    "print(df_model.head())"
   ]
  },
  {
   "cell_type": "code",
   "execution_count": 19,
   "id": "b61f622a",
   "metadata": {},
   "outputs": [
    {
     "data": {
      "text/plain": [
       "<function matplotlib.pyplot.show(close=None, block=None)>"
      ]
     },
     "execution_count": 19,
     "metadata": {},
     "output_type": "execute_result"
    },
    {
     "data": {
      "image/png": "[encoded data removed]",
      "text/plain": [
       "<Figure size 432x288 with 1 Axes>"
      ]
     },
     "metadata": {
      "needs_background": "light"
     },
     "output_type": "display_data"
    }
   ],
   "source": [
    "cs = []\n",
    "for i in range(1, 11):\n",
    "    kmeans = KMeans(n_clusters = i, init = 'k-means++', max_iter = 300, n_init = 10, random_state = 0)\n",
    "    kmeans.fit(df_model)\n",
    "    cs.append(kmeans.inertia_)\n",
    "plt.plot(range(1, 11), cs)\n",
    "plt.title('The Elbow Method')\n",
    "plt.xlabel('Number of clusters')\n",
    "plt.ylabel('CS')\n",
    "plt.show"
   ]
  },
  {
   "cell_type": "code",
   "execution_count": 20,
   "id": "64f4cf54",
   "metadata": {},
   "outputs": [
    {
     "data": {
      "text/plain": [
       "KMeans(n_clusters=3, random_state=75)"
      ]
     },
     "execution_count": 20,
     "metadata": {},
     "output_type": "execute_result"
    }
   ],
   "source": [
    "kmeans=KMeans(n_clusters=3,random_state=75) \n",
    "kmeans.fit(df_model)"
   ]
  },
  {
   "cell_type": "code",
   "execution_count": 21,
   "id": "11b4690b",
   "metadata": {},
   "outputs": [
    {
     "data": {
      "text/plain": [
       "array([1, 1, 2, ..., 1, 1, 1])"
      ]
     },
     "execution_count": 21,
     "metadata": {},
     "output_type": "execute_result"
    }
   ],
   "source": [
    "prediction=kmeans.fit_predict(df_model)\n",
    "prediction"
   ]
  },
  {
   "cell_type": "code",
   "execution_count": 22,
   "id": "dcbde6fc",
   "metadata": {},
   "outputs": [],
   "source": [
    "data=df_model.copy()"
   ]
  },
  {
   "cell_type": "code",
   "execution_count": 23,
   "id": "0d38f775",
   "metadata": {},
   "outputs": [],
   "source": [
    "clustered_data = data.copy()\n",
    "clustered_data[\"cluster_index\"] = prediction"
   ]
  },
  {
   "cell_type": "code",
   "execution_count": 24,
   "id": "a89edb26",
   "metadata": {},
   "outputs": [
    {
     "data": {
      "text/plain": [
       "<AxesSubplot:xlabel='spend', ylabel='age'>"
      ]
     },
     "execution_count": 24,
     "metadata": {},
     "output_type": "execute_result"
    },
    {
     "data": {
      "image/png": "[encoded data removed]",
      "text/plain": [
       "<Figure size 432x288 with 1 Axes>"
      ]
     },
     "metadata": {
      "needs_background": "light"
     },
     "output_type": "display_data"
    }
   ],
   "source": [
    "sns.scatterplot(x=clustered_data.spend,\n",
    "                y=clustered_data.age,\n",
    "                hue=clustered_data.cluster_index,\n",
    "                palette=\"deep\")"
   ]
  },
  {
   "cell_type": "code",
   "execution_count": 25,
   "id": "ee8d3fde",
   "metadata": {},
   "outputs": [
    {
     "name": "stdout",
     "output_type": "stream",
     "text": [
      "      id  age gender traffic_source     category       spend  cluster\n",
      "0  79128   14      M         Search  Accessories   19.959999        1\n",
      "1  84559   50      M         Search  Accessories   77.500000        1\n",
      "2  64034   58      F        Organic  Accessories  102.500000        2\n",
      "3  74318   39      F         Search  Accessories  287.597490        0\n",
      "4  91110   52      F         Search         Plus    3.500000        1\n"
     ]
    }
   ],
   "source": [
    "df['cluster'] = prediction\n",
    "print(df.head()) "
   ]
  },
  {
   "cell_type": "code",
   "execution_count": 26,
   "id": "494089a8",
   "metadata": {},
   "outputs": [],
   "source": [
    "df_cluster0 = df.loc[df['cluster']== 0]\n",
    "df_cluster1 = df.loc[df['cluster']== 1]\n",
    "df_cluster2 = df.loc[df['cluster']== 2]"
   ]
  },
  {
   "cell_type": "markdown",
   "id": "e78a00b3",
   "metadata": {},
   "source": [
    "### Cluster 0"
   ]
  },
  {
   "cell_type": "code",
   "execution_count": 27,
   "id": "0d2b8141",
   "metadata": {},
   "outputs": [
    {
     "data": {
      "text/plain": [
       "191.4499969482422"
      ]
     },
     "execution_count": 27,
     "metadata": {},
     "output_type": "execute_result"
    }
   ],
   "source": [
    "df_cluster0['spend'].min()"
   ]
  },
  {
   "cell_type": "code",
   "execution_count": 28,
   "id": "d1009813",
   "metadata": {},
   "outputs": [
    {
     "data": {
      "text/plain": [
       "287.59749031066895"
      ]
     },
     "execution_count": 28,
     "metadata": {},
     "output_type": "execute_result"
    }
   ],
   "source": [
    "df_cluster0['spend'].max()"
   ]
  },
  {
   "cell_type": "code",
   "execution_count": 29,
   "id": "fde77474",
   "metadata": {},
   "outputs": [
    {
     "data": {
      "text/plain": [
       "12"
      ]
     },
     "execution_count": 29,
     "metadata": {},
     "output_type": "execute_result"
    }
   ],
   "source": [
    "df_cluster0['age'].min()"
   ]
  },
  {
   "cell_type": "code",
   "execution_count": 30,
   "id": "0e4ac4ec",
   "metadata": {},
   "outputs": [
    {
     "data": {
      "text/plain": [
       "70"
      ]
     },
     "execution_count": 30,
     "metadata": {},
     "output_type": "execute_result"
    }
   ],
   "source": [
    "df_cluster0['age'].max()"
   ]
  },
  {
   "cell_type": "code",
   "execution_count": 31,
   "id": "a7eb3bca",
   "metadata": {},
   "outputs": [
    {
     "data": {
      "text/plain": [
       "Jeans                            589\n",
       "Outerwear & Coats                538\n",
       "Sweaters                         356\n",
       "Intimates                        340\n",
       "Suits & Sport Coats              323\n",
       "Underwear                        310\n",
       "Swim                             282\n",
       "Tops & Tees                      270\n",
       "Sleep & Lounge                   260\n",
       "Shorts                           246\n",
       "Active                           226\n",
       "Fashion Hoodies & Sweatshirts    219\n",
       "Accessories                      180\n",
       "Pants                            177\n",
       "Socks                            166\n",
       "Dresses                          163\n",
       "Maternity                        132\n",
       "Blazers & Jackets                117\n",
       "Plus                             105\n",
       "Socks & Hosiery                   79\n",
       "Pants & Capris                    56\n",
       "Leggings                          45\n",
       "Suits                             41\n",
       "Skirts                            38\n",
       "Jumpsuits & Rompers               18\n",
       "Clothing Sets                      5\n",
       "Name: category, dtype: int64"
      ]
     },
     "execution_count": 31,
     "metadata": {},
     "output_type": "execute_result"
    }
   ],
   "source": [
    "df_cluster0['category'].value_counts()"
   ]
  },
  {
   "cell_type": "code",
   "execution_count": 32,
   "id": "7001138c",
   "metadata": {},
   "outputs": [
    {
     "data": {
      "text/plain": [
       "M    2974\n",
       "F    2307\n",
       "Name: gender, dtype: int64"
      ]
     },
     "execution_count": 32,
     "metadata": {},
     "output_type": "execute_result"
    }
   ],
   "source": [
    "df_cluster0['gender'].value_counts()"
   ]
  },
  {
   "cell_type": "code",
   "execution_count": 33,
   "id": "9164d723",
   "metadata": {},
   "outputs": [
    {
     "data": {
      "text/plain": [
       "Search      3767\n",
       "Organic      742\n",
       "Facebook     306\n",
       "Email        253\n",
       "Display      213\n",
       "Name: traffic_source, dtype: int64"
      ]
     },
     "execution_count": 33,
     "metadata": {},
     "output_type": "execute_result"
    }
   ],
   "source": [
    "df_cluster0['traffic_source'].value_counts()"
   ]
  },
  {
   "cell_type": "markdown",
   "id": "88dcb82b",
   "metadata": {},
   "source": [
    "### Cluster 1"
   ]
  },
  {
   "cell_type": "code",
   "execution_count": 34,
   "id": "08df4ddf",
   "metadata": {},
   "outputs": [
    {
     "data": {
      "text/plain": [
       "0.0199999995529651"
      ]
     },
     "execution_count": 34,
     "metadata": {},
     "output_type": "execute_result"
    }
   ],
   "source": [
    "df_cluster1['spend'].min()"
   ]
  },
  {
   "cell_type": "code",
   "execution_count": 35,
   "id": "361bea63",
   "metadata": {},
   "outputs": [
    {
     "data": {
      "text/plain": [
       "84.20999908447266"
      ]
     },
     "execution_count": 35,
     "metadata": {},
     "output_type": "execute_result"
    }
   ],
   "source": [
    "df_cluster1['spend'].max()"
   ]
  },
  {
   "cell_type": "code",
   "execution_count": 36,
   "id": "4fe810a7",
   "metadata": {},
   "outputs": [
    {
     "data": {
      "text/plain": [
       "Intimates                        2110\n",
       "Tops & Tees                      1661\n",
       "Shorts                           1477\n",
       "Fashion Hoodies & Sweatshirts    1473\n",
       "Sleep & Lounge                   1431\n",
       "Swim                             1282\n",
       "Underwear                        1271\n",
       "Accessories                      1261\n",
       "Active                           1194\n",
       "Socks                             998\n",
       "Sweaters                          988\n",
       "Jeans                             915\n",
       "Pants                             750\n",
       "Maternity                         701\n",
       "Socks & Hosiery                   701\n",
       "Plus                              609\n",
       "Leggings                          467\n",
       "Dresses                           462\n",
       "Pants & Capris                    421\n",
       "Outerwear & Coats                 418\n",
       "Blazers & Jackets                 258\n",
       "Skirts                            250\n",
       "Suits & Sport Coats               236\n",
       "Jumpsuits & Rompers               130\n",
       "Suits                              33\n",
       "Clothing Sets                      19\n",
       "Name: category, dtype: int64"
      ]
     },
     "execution_count": 36,
     "metadata": {},
     "output_type": "execute_result"
    }
   ],
   "source": [
    "df_cluster1['category'].value_counts()"
   ]
  },
  {
   "cell_type": "code",
   "execution_count": 37,
   "id": "db8f7d40",
   "metadata": {},
   "outputs": [
    {
     "data": {
      "text/plain": [
       "F    11217\n",
       "M    10299\n",
       "Name: gender, dtype: int64"
      ]
     },
     "execution_count": 37,
     "metadata": {},
     "output_type": "execute_result"
    }
   ],
   "source": [
    "df_cluster1['gender'].value_counts()"
   ]
  },
  {
   "cell_type": "code",
   "execution_count": 38,
   "id": "c4b3523d",
   "metadata": {},
   "outputs": [
    {
     "data": {
      "text/plain": [
       "Search      15060\n",
       "Organic      3231\n",
       "Facebook     1340\n",
       "Email        1025\n",
       "Display       860\n",
       "Name: traffic_source, dtype: int64"
      ]
     },
     "execution_count": 38,
     "metadata": {},
     "output_type": "execute_result"
    }
   ],
   "source": [
    "df_cluster1['traffic_source'].value_counts()"
   ]
  },
  {
   "cell_type": "markdown",
   "id": "9e9aa25c",
   "metadata": {},
   "source": [
    "### Cluster 2"
   ]
  },
  {
   "cell_type": "code",
   "execution_count": 39,
   "id": "b83dc31e",
   "metadata": {},
   "outputs": [
    {
     "data": {
      "text/plain": [
       "84.26000213623048"
      ]
     },
     "execution_count": 39,
     "metadata": {},
     "output_type": "execute_result"
    }
   ],
   "source": [
    "df_cluster2['spend'].min()"
   ]
  },
  {
   "cell_type": "code",
   "execution_count": 40,
   "id": "e95c1c88",
   "metadata": {},
   "outputs": [
    {
     "data": {
      "text/plain": [
       "191.2799997329712"
      ]
     },
     "execution_count": 40,
     "metadata": {},
     "output_type": "execute_result"
    }
   ],
   "source": [
    "df_cluster2['spend'].max()"
   ]
  },
  {
   "cell_type": "code",
   "execution_count": 41,
   "id": "eabfa3b1",
   "metadata": {},
   "outputs": [
    {
     "data": {
      "text/plain": [
       "Jeans                            1011\n",
       "Sweaters                          761\n",
       "Outerwear & Coats                 745\n",
       "Intimates                         684\n",
       "Swim                              647\n",
       "Sleep & Lounge                    600\n",
       "Fashion Hoodies & Sweatshirts     550\n",
       "Shorts                            500\n",
       "Tops & Tees                       499\n",
       "Pants                             421\n",
       "Underwear                         419\n",
       "Active                            418\n",
       "Accessories                       416\n",
       "Dresses                           376\n",
       "Suits & Sport Coats               302\n",
       "Socks                             239\n",
       "Maternity                         231\n",
       "Plus                              215\n",
       "Blazers & Jackets                 212\n",
       "Pants & Capris                    173\n",
       "Socks & Hosiery                   150\n",
       "Suits                             113\n",
       "Skirts                             93\n",
       "Leggings                           80\n",
       "Jumpsuits & Rompers                35\n",
       "Clothing Sets                      20\n",
       "Name: category, dtype: int64"
      ]
     },
     "execution_count": 41,
     "metadata": {},
     "output_type": "execute_result"
    }
   ],
   "source": [
    "df_cluster2['category'].value_counts()"
   ]
  },
  {
   "cell_type": "code",
   "execution_count": 42,
   "id": "c54a8b0e",
   "metadata": {},
   "outputs": [
    {
     "data": {
      "text/plain": [
       "M    5027\n",
       "F    4883\n",
       "Name: gender, dtype: int64"
      ]
     },
     "execution_count": 42,
     "metadata": {},
     "output_type": "execute_result"
    }
   ],
   "source": [
    "df_cluster2['gender'].value_counts()"
   ]
  },
  {
   "cell_type": "code",
   "execution_count": 43,
   "id": "e89130d2",
   "metadata": {},
   "outputs": [
    {
     "data": {
      "text/plain": [
       "Search      6924\n",
       "Organic     1474\n",
       "Facebook     653\n",
       "Email        475\n",
       "Display      384\n",
       "Name: traffic_source, dtype: int64"
      ]
     },
     "execution_count": 43,
     "metadata": {},
     "output_type": "execute_result"
    }
   ],
   "source": [
    "df_cluster2['traffic_source'].value_counts()"
   ]
  },
  {
   "cell_type": "code",
   "execution_count": 44,
   "id": "7b3e78ec",
   "metadata": {},
   "outputs": [
    {
     "name": "stdout",
     "output_type": "stream",
     "text": [
      "<class 'pandas.core.frame.DataFrame'>\n",
      "Int64Index: 36707 entries, 0 to 63024\n",
      "Data columns (total 7 columns):\n",
      " #   Column          Non-Null Count  Dtype  \n",
      "---  ------          --------------  -----  \n",
      " 0   id              36707 non-null  int64  \n",
      " 1   age             36707 non-null  int64  \n",
      " 2   gender          36707 non-null  object \n",
      " 3   traffic_source  36707 non-null  object \n",
      " 4   category        36707 non-null  object \n",
      " 5   spend           36707 non-null  float64\n",
      " 6   cluster         36707 non-null  int32  \n",
      "dtypes: float64(1), int32(1), int64(2), object(3)\n",
      "memory usage: 3.1+ MB\n"
     ]
    }
   ],
   "source": [
    "df.info()"
   ]
  },
  {
   "cell_type": "markdown",
   "id": "69dfe05a",
   "metadata": {},
   "source": [
    "### Conclusion"
   ]
  },
  {
   "cell_type": "markdown",
   "id": "6cb0ccd1",
   "metadata": {},
   "source": [
    "#### Cluster 0\n",
    "\n",
    "1. Memiliki total belanja antara 191.45 sampai 287.59\n",
    "2. cluster ini didominasi dengan gender Laki-laki dengan total 56.32% \n",
    "3. 71.33% traffic source dari cluster ini adalah Search\n",
    "4. 5 Kategori teratas dari cluster ini :\n",
    "        . Jeans\n",
    "        . Outerwear & Coats \n",
    "        . Sweaters\n",
    "        . Intimates\n",
    "        . Suits & Sport Coats\n",
    "        \n",
    "5. Cluster ini berisi 14.39% dari keseluruhan data\n"
   ]
  },
  {
   "cell_type": "markdown",
   "id": "8f097aa4",
   "metadata": {},
   "source": [
    "#### Cluster 1\n",
    "\n",
    "1. Memiliki total belanja antara 0.02 sampai 84.20\n",
    "2. Cluster ini didominasi perempuan dengan persentase 52.13% \n",
    "3. 69.99% traffic source berasal dari search\n",
    "4. Top 5 kategori :\n",
    "        . Intimates \n",
    "        . Tops & Tees\n",
    "        . Shorts\n",
    "        . Fashion Hoodies & Sweatshirts\n",
    "        . Sleep & Lounge\n",
    "5. Kebanyakan customer berada pada cluster ini dengan persentase 58.62%"
   ]
  },
  {
   "cell_type": "markdown",
   "id": "1cf13557",
   "metadata": {},
   "source": [
    "#### Cluster 2\n",
    "\n",
    "1. Memiliki total belanja antara 84.26 sampai dengan 191.28.\n",
    "2. Cluster ini didominasi dengan jenis kelamin laki-laki dengan persentase 50.73% | 9910\n",
    "3. 69.87% traffic source dari cluster ini adalah search\n",
    "4. 5 kategori teratas dari cluster ini :\n",
    "        . Jeans\n",
    "        . Sweaters\n",
    "        . Outerwear & Coats\n",
    "        . Intimates\n",
    "        . Swim \n",
    "5. 27% customer berada pada cluster ini."
   ]
  },
  {
   "cell_type": "code",
   "execution_count": 45,
   "id": "0a04bcee",
   "metadata": {},
   "outputs": [],
   "source": [
    "#df.loc[df['id']== 12287]"
   ]
  }
 ],
 "metadata": {
  "kernelspec": {
   "display_name": "Python 3 (ipykernel)",
   "language": "python",
   "name": "python3"
  },
  "language_info": {
   "codemirror_mode": {
    "name": "ipython",
    "version": 3
   },
   "file_extension": ".py",
   "mimetype": "text/x-python",
   "name": "python",
   "nbconvert_exporter": "python",
   "pygments_lexer": "ipython3",
   "version": "3.9.7"
  }
 },
 "nbformat": 4,
 "nbformat_minor": 5
}
